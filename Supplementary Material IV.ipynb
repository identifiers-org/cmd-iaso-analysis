{
 "cells": [
  {
   "cell_type": "markdown",
   "metadata": {},
   "source": [
    "### <center>A decoupled, modular and scriptable architecture for tools to curate data platforms<br>Supplementary Material IV</center>\n",
    "# <center>Analysing the Reliability of Bioinformatics Resource Providers listed in identifiers.org using cmd-iaso</center>\n",
    "### <center>Moritz Langenstein, Henning Hermjakob and Manuel Bernal Llinares<br>September 16, 2020</center>"
   ]
  },
  {
   "cell_type": "markdown",
   "metadata": {},
   "source": [
    "You can launch this Jupyter Notebook online using\n",
    "\n",
    "[![Binder](https://mybinder.org/badge_logo.svg)](https://mybinder.org/v2/gh/identifiers-org/cmd-iaso-analysis.git/main?filepath=Supplementary%20Material%20IV.ipynb)"
   ]
  },
  {
   "cell_type": "markdown",
   "metadata": {},
   "source": [
    "TODO: Here we download and install cmd-iaso in a new virtual environment"
   ]
  },
  {
   "cell_type": "code",
   "execution_count": null,
   "metadata": {},
   "outputs": [],
   "source": [
    "!git clone https://github.com/identifiers-org/cmd-iaso.git\n",
    "!pip install virtualenv\n",
    "!virtualenv venv\n",
    "!venv/bin/pip install --upgrade pip\n",
    "!venv/bin/pip install cmd-iaso/"
   ]
  },
  {
   "cell_type": "markdown",
   "metadata": {},
   "source": [
    "TODO: Here we import system libraries used in this Notebook"
   ]
  },
  {
   "cell_type": "code",
   "execution_count": null,
   "metadata": {},
   "outputs": [],
   "source": [
    "import gzip\n",
    "import json\n",
    "import pickle\n",
    "import shlex\n",
    "import urllib.request"
   ]
  },
  {
   "cell_type": "markdown",
   "metadata": {},
   "source": [
    "TODO: Here we import pretty printing for JSON from cmd-iaso"
   ]
  },
  {
   "cell_type": "code",
   "execution_count": null,
   "metadata": {},
   "outputs": [],
   "source": [
    "def print_json(obj):\n",
    "    code = shlex.quote(f\"from iaso.format_json import format_json; print(format_json({repr(obj)}, process_links=False))\")\n",
    "    \n",
    "    !echo {code} | venv/bin/python3"
   ]
  },
  {
   "cell_type": "markdown",
   "metadata": {},
   "source": [
    "TODO: We will demonstrate the analysis on the `JWS Online Model Repository at Amsterdam` resource provider."
   ]
  },
  {
   "cell_type": "code",
   "execution_count": null,
   "metadata": {},
   "outputs": [],
   "source": [
    "with urllib.request.urlopen('https://registry.api.identifiers.org/restApi/resources/416') as response:\n",
    "    print_json(json.loads(response.read()))"
   ]
  },
  {
   "cell_type": "markdown",
   "metadata": {},
   "source": [
    "TODO: We create two scraping jobs (this would normally be done using `> cmd-iaso jobs jobs.json`) for the resource, the first using a valid LUI, the second one using a randomly generated one."
   ]
  },
  {
   "cell_type": "code",
   "execution_count": null,
   "metadata": {},
   "outputs": [],
   "source": [
    "with open('jobs.json', 'w') as file:\n",
    "    json.dump([\n",
    "        (416, 'curien', False, 'http://jjj.bio.vu.nl/models/curien'),\n",
    "        (416, '7d_', True, 'http://jjj.bio.vu.nl/models/7d_')\n",
    "    ], file)"
   ]
  },
  {
   "cell_type": "markdown",
   "metadata": {},
   "source": [
    "TODO: We create a dump folder and use cmd-iaso to perform the scraping"
   ]
  },
  {
   "cell_type": "code",
   "execution_count": null,
   "metadata": {},
   "outputs": [],
   "source": [
    "!mkdir dump -p\n",
    "!echo 'y' | venv/bin/cmd-iaso scrape jobs.json dump"
   ]
  },
  {
   "cell_type": "markdown",
   "metadata": {},
   "source": [
    "TODO: We can now look at the scraping dump which contains the responses for both resource pings. We can see that both redirected and then failed on an SSL error."
   ]
  },
  {
   "cell_type": "code",
   "execution_count": null,
   "metadata": {},
   "outputs": [],
   "source": [
    "with gzip.open('dump/pings_416.gz', 'rb') as file:\n",
    "    print_json(pickle.load(file))\n",
    "    print_json(pickle.load(file))"
   ]
  },
  {
   "cell_type": "markdown",
   "metadata": {},
   "source": [
    "TODO: We can now compress the dump into the structured findings file which cmd-iaso can read during curation."
   ]
  },
  {
   "cell_type": "code",
   "execution_count": null,
   "metadata": {},
   "outputs": [],
   "source": [
    "!echo 'y' | venv/bin/cmd-iaso dump2datamine dump datamine.json"
   ]
  },
  {
   "cell_type": "markdown",
   "metadata": {},
   "source": [
    "TODO: The datamine contains information about the environment in which this command was run as well as information similar to the raw dump"
   ]
  },
  {
   "cell_type": "code",
   "execution_count": null,
   "metadata": {},
   "outputs": [],
   "source": [
    "with open('datamine.json', 'r') as file:\n",
    "    print_json(json.load(file))"
   ]
  },
  {
   "cell_type": "markdown",
   "metadata": {},
   "source": [
    "TODO: We will now analyse the collected findings using the SSL and Scheme-Only-Redirect validators. Explain them and link to GitHub source. We can use cmd-iaso to print a summary of the errors found."
   ]
  },
  {
   "cell_type": "code",
   "execution_count": null,
   "metadata": {},
   "outputs": [],
   "source": [
    "!echo 'y' | venv/bin/cmd-iaso curate --statistics start resources datamine.json --validate scheme-only-redirect --validate ssl-error --validate dns-error --discard-session"
   ]
  },
  {
   "cell_type": "markdown",
   "metadata": {},
   "source": [
    "TODO: We can also enter the iterative curation mode to see each identified issue separately."
   ]
  },
  {
   "cell_type": "code",
   "execution_count": null,
   "metadata": {},
   "outputs": [],
   "source": [
    "!echo 'end' | venv/bin/cmd-iaso curate --controller terminal --navigator terminal --informant terminal start resources datamine.json --validate scheme-only-redirect --validate ssl-error --validate dns-error --discard-session"
   ]
  },
  {
   "cell_type": "code",
   "execution_count": null,
   "metadata": {},
   "outputs": [],
   "source": []
  }
 ],
 "metadata": {
  "kernelspec": {
   "display_name": "Python 3",
   "language": "python",
   "name": "python3"
  },
  "language_info": {
   "codemirror_mode": {
    "name": "ipython",
    "version": 3
   },
   "file_extension": ".py",
   "mimetype": "text/x-python",
   "name": "python",
   "nbconvert_exporter": "python",
   "pygments_lexer": "ipython3",
   "version": "3.7.3"
  }
 },
 "nbformat": 4,
 "nbformat_minor": 4
}
